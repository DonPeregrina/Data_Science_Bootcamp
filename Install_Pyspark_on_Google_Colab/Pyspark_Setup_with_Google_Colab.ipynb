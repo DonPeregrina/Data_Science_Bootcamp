{
  "nbformat": 4,
  "nbformat_minor": 0,
  "metadata": {
    "colab": {
      "name": "Pyspark_Setup_with_Google_Colab.ipynb",
      "provenance": []
    },
    "kernelspec": {
      "name": "python3",
      "display_name": "Python 3"
    }
  },
  "cells": [
    {
      "cell_type": "markdown",
      "metadata": {
        "id": "QU-sZrdYInCf",
        "colab_type": "text"
      },
      "source": [
        "# Install apache spark (Pyspark , dependencies and prepare environment for work \n",
        "\n",
        "- created by : Ishmael Peregrina\n",
        "- email: ismael.peregrina@gmail.com"
      ]
    },
    {
      "cell_type": "code",
      "metadata": {
        "id": "vOLMoxNxL2wj",
        "colab_type": "code",
        "colab": {}
      },
      "source": [
        "# 1. nstall all the dependencies in Colab environment i.e. Apache Spark 2.4.4 with hadoop 2.7, Java 8 and Findspark to locate the spark in the system\n",
        "# Si aqui marca error entonces tienes que ir a buscar cual es la dependencia de spark que se esta usando\n",
        "# La liga de abajo esta basada en a liga de url de apache spark siguiente:\n",
        "\n",
        "# Apacha spark download mirrors --> https://www.apache.org/dyn/closer.lua/spark/spark-3.0.0/spark-3.0.0-bin-hadoop2.7.tgz\n",
        "\n",
        "!apt-get install openjdk-8-jdk-headless -qq > /dev/null\n",
        "!wget -q https://downloads.apache.org/spark/spark-3.0.0/spark-3.0.0-bin-hadoop2.7.tgz\n",
        "!tar xf spark-3.0.0-bin-hadoop2.7.tgz\n",
        "!pip install -q findspark"
      ],
      "execution_count": 2,
      "outputs": []
    },
    {
      "cell_type": "code",
      "metadata": {
        "id": "WBRJ57BCMnCr",
        "colab_type": "code",
        "colab": {}
      },
      "source": [
        "# 2. Setup Environment Variables\n",
        "import os\n",
        "os.environ[\"JAVA_HOME\"] = \"/usr/lib/jvm/java-8-openjdk-amd64\"\n",
        "os.environ[\"SPARK_HOME\"] = \"/content/spark-3.0.0-bin-hadoop2.7\""
      ],
      "execution_count": 3,
      "outputs": []
    },
    {
      "cell_type": "code",
      "metadata": {
        "id": "SWf4fCknN1T2",
        "colab_type": "code",
        "colab": {}
      },
      "source": [
        "# 3. Start Spark Session\n",
        "import findspark\n",
        "findspark.init()\n",
        "from pyspark.sql import SparkSession\n",
        "spark = SparkSession.builder.master(\"local[*]\").getOrCreate()"
      ],
      "execution_count": 4,
      "outputs": []
    },
    {
      "cell_type": "code",
      "metadata": {
        "id": "1kiJ_G-xiB5a",
        "colab_type": "code",
        "colab": {
          "base_uri": "https://localhost:8080/",
          "height": 253
        },
        "outputId": "5dc7640f-0490-4637-9da3-99aae946aab5"
      },
      "source": [
        "#Create Dataframe\n",
        "df = spark.createDataFrame([{\"Spark on\": \"Jupyter\"} for x in range(1000)])\n",
        "df.show(5)"
      ],
      "execution_count": 5,
      "outputs": [
        {
          "output_type": "stream",
          "text": [
            "/content/spark-3.0.0-bin-hadoop2.7/python/pyspark/sql/session.py:378: UserWarning: inferring schema from dict is deprecated,please use pyspark.sql.Row instead\n",
            "  warnings.warn(\"inferring schema from dict is deprecated,\"\n"
          ],
          "name": "stderr"
        },
        {
          "output_type": "stream",
          "text": [
            "+--------+\n",
            "|Spark on|\n",
            "+--------+\n",
            "| Jupyter|\n",
            "| Jupyter|\n",
            "| Jupyter|\n",
            "| Jupyter|\n",
            "| Jupyter|\n",
            "+--------+\n",
            "only showing top 5 rows\n",
            "\n"
          ],
          "name": "stdout"
        }
      ]
    },
    {
      "cell_type": "markdown",
      "metadata": {
        "id": "CAWY_VK8K-Rj",
        "colab_type": "text"
      },
      "source": [
        "# Testing installation"
      ]
    },
    {
      "cell_type": "code",
      "metadata": {
        "id": "CiTslogELHbP",
        "colab_type": "code",
        "colab": {
          "base_uri": "https://localhost:8080/",
          "height": 35
        },
        "outputId": "17a63406-4224-4516-d754-5de6a3db9004"
      },
      "source": [
        "#Testing pyspark installation\n",
        "import findspark\n",
        "findspark.init()\n",
        "findspark.find()\n",
        "import pyspark\n",
        "findspark.find()"
      ],
      "execution_count": 7,
      "outputs": [
        {
          "output_type": "execute_result",
          "data": {
            "application/vnd.google.colaboratory.intrinsic+json": {
              "type": "string"
            },
            "text/plain": [
              "'/content/spark-3.0.0-bin-hadoop2.7'"
            ]
          },
          "metadata": {
            "tags": []
          },
          "execution_count": 7
        }
      ]
    },
    {
      "cell_type": "code",
      "metadata": {
        "id": "QWDnEm5-LIZN",
        "colab_type": "code",
        "colab": {}
      },
      "source": [
        "#Initiate Spark Context\n",
        "from pyspark import SparkContext, SparkConf\n",
        "from pyspark.sql import SparkSession\n",
        "conf = pyspark.SparkConf().setAppName('SparkApp').setMaster('local')\n",
        "sc = SparkContext.getOrCreate()\n",
        "spark = SparkSession(sc)"
      ],
      "execution_count": 11,
      "outputs": []
    },
    {
      "cell_type": "code",
      "metadata": {
        "id": "_HXau1uXLK1q",
        "colab_type": "code",
        "colab": {
          "base_uri": "https://localhost:8080/",
          "height": 33
        },
        "outputId": "7b0bce76-af57-419a-bb39-67e91e592155"
      },
      "source": [
        "\n",
        "#Example Test Code\n",
        "numeric_val = sc.parallelize([1,2,3,4])\n",
        "numeric_val.map(lambda x: x*x*x).collect()"
      ],
      "execution_count": 12,
      "outputs": [
        {
          "output_type": "execute_result",
          "data": {
            "text/plain": [
              "[1, 8, 27, 64]"
            ]
          },
          "metadata": {
            "tags": []
          },
          "execution_count": 12
        }
      ]
    },
    {
      "cell_type": "code",
      "metadata": {
        "id": "Hr0ou2QaLyaY",
        "colab_type": "code",
        "colab": {}
      },
      "source": [
        "sc.stop()"
      ],
      "execution_count": 13,
      "outputs": []
    },
    {
      "cell_type": "code",
      "metadata": {
        "id": "oLAoUCp4L5I9",
        "colab_type": "code",
        "colab": {}
      },
      "source": [
        ""
      ],
      "execution_count": null,
      "outputs": []
    }
  ]
}